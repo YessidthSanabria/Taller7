{
 "cells": [
  {
   "cell_type": "code",
   "execution_count": 1,
   "metadata": {},
   "outputs": [],
   "source": [
    "import pyspark\n",
    "sc = pyspark.SparkContext('local[*]')\n",
    "\n",
    "from pyspark.sql import SQLContext\n",
    "sqlContext = SQLContext(sc)"
   ]
  },
  {
   "cell_type": "markdown",
   "metadata": {},
   "source": [
    "## Leer los datos"
   ]
  },
  {
   "cell_type": "code",
   "execution_count": 2,
   "metadata": {},
   "outputs": [],
   "source": [
    "df = sqlContext.read.format(\"csv\").option(\"delimiter\", \"\\t\").option(\"header\", \"true\").load(\"cubo_ventas/fact_item.txt\")"
   ]
  },
  {
   "cell_type": "code",
   "execution_count": 3,
   "metadata": {},
   "outputs": [],
   "source": [
    "df_clientes = sqlContext.read.format(\"csv\").option(\"delimiter\", \"\\t\").option(\"header\", \"true\").load(\"cubo_ventas/dim_customer.txt\")"
   ]
  },
  {
   "cell_type": "code",
   "execution_count": 4,
   "metadata": {},
   "outputs": [
    {
     "data": {
      "text/plain": [
       "Row(dwh_country_id='276', fk_sales_order_item='88056', fk_sales_order='5642', local_unit_price='1.29', unit_price_eur='1.29', local_tax_amount='0.08', tax_amount_eur='0.08', local_paid_price='1.29', paid_price_eur='1.29', local_paid_price_net='1.21', paid_price_net_eur='1.21', local_coupon_money_value='0', coupon_money_value_eur='0', local_coupon_money_value_net='0', coupon_money_value_eur_net='0', local_original_price='1.29', original_unit_price_eur='0.89', fk_dim_catalog='1676', fk_dim_date='9/28/2015 12:00:00 AM', fk_dim_customer='194', fk_dim_order='6142', order_bi_created_at='9/28/2015 8:33:17 AM', order_bi_updated_at='1/26/2016 3:55:59 PM', order_item_bi_created_at='9/28/2015 8:33:17 AM', order_item_bi_updated_at='9/28/2015 8:34:04 AM')"
      ]
     },
     "execution_count": 4,
     "metadata": {},
     "output_type": "execute_result"
    }
   ],
   "source": [
    "df.head()"
   ]
  },
  {
   "cell_type": "code",
   "execution_count": 5,
   "metadata": {},
   "outputs": [
    {
     "name": "stdout",
     "output_type": "stream",
     "text": [
      "root\n",
      " |-- dwh_country_id: string (nullable = true)\n",
      " |-- fk_sales_order_item: string (nullable = true)\n",
      " |-- fk_sales_order: string (nullable = true)\n",
      " |-- local_unit_price: string (nullable = true)\n",
      " |-- unit_price_eur: string (nullable = true)\n",
      " |-- local_tax_amount: string (nullable = true)\n",
      " |-- tax_amount_eur: string (nullable = true)\n",
      " |-- local_paid_price: string (nullable = true)\n",
      " |-- paid_price_eur: string (nullable = true)\n",
      " |-- local_paid_price_net: string (nullable = true)\n",
      " |-- paid_price_net_eur: string (nullable = true)\n",
      " |-- local_coupon_money_value: string (nullable = true)\n",
      " |-- coupon_money_value_eur: string (nullable = true)\n",
      " |-- local_coupon_money_value_net: string (nullable = true)\n",
      " |-- coupon_money_value_eur_net: string (nullable = true)\n",
      " |-- local_original_price: string (nullable = true)\n",
      " |-- original_unit_price_eur: string (nullable = true)\n",
      " |-- fk_dim_catalog: string (nullable = true)\n",
      " |-- fk_dim_date: string (nullable = true)\n",
      " |-- fk_dim_customer: string (nullable = true)\n",
      " |-- fk_dim_order: string (nullable = true)\n",
      " |-- order_bi_created_at: string (nullable = true)\n",
      " |-- order_bi_updated_at: string (nullable = true)\n",
      " |-- order_item_bi_created_at: string (nullable = true)\n",
      " |-- order_item_bi_updated_at: string (nullable = true)\n",
      "\n"
     ]
    }
   ],
   "source": [
    "df.printSchema()"
   ]
  },
  {
   "cell_type": "code",
   "execution_count": 7,
   "metadata": {},
   "outputs": [
    {
     "name": "stdout",
     "output_type": "stream",
     "text": [
      "+-------+--------------+\n",
      "|summary|dwh_country_id|\n",
      "+-------+--------------+\n",
      "|  count|        175909|\n",
      "|   mean|         276.0|\n",
      "| stddev|           0.0|\n",
      "|    min|           276|\n",
      "|    max|           276|\n",
      "+-------+--------------+\n",
      "\n"
     ]
    }
   ],
   "source": [
    "df.describe('dwh_country_id').show()"
   ]
  },
  {
   "cell_type": "markdown",
   "metadata": {},
   "source": [
    "## SQL API"
   ]
  },
  {
   "cell_type": "code",
   "execution_count": 8,
   "metadata": {},
   "outputs": [
    {
     "name": "stdout",
     "output_type": "stream",
     "text": [
      "+-----------------+-------------------+\n",
      "|          channel|fk_sales_order_item|\n",
      "+-----------------+-------------------+\n",
      "|Social Media Paid|              88056|\n",
      "|Social Media Paid|              88055|\n",
      "|Social Media Paid|              88054|\n",
      "|Social Media Paid|              88053|\n",
      "|Social Media Paid|              88052|\n",
      "|Social Media Paid|              88051|\n",
      "|Social Media Paid|              91950|\n",
      "|Social Media Paid|              91949|\n",
      "|Social Media Paid|              91948|\n",
      "|Social Media Paid|              91947|\n",
      "+-----------------+-------------------+\n",
      "\n"
     ]
    }
   ],
   "source": [
    "df.createOrReplaceTempView(\"fact_item\")\n",
    "df_clientes.createOrReplaceTempView(\"dim_customer\")\n",
    "users = sqlContext.sql(\"SELECT channel,fk_sales_order_item \\\n",
    "                       FROM fact_item join dim_customer on fk_dim_customer=id_dim_customer limit 10\")\n",
    "users.show()"
   ]
  },
  {
   "cell_type": "markdown",
   "metadata": {},
   "source": [
    "### 1. Perfilamiento de datos"
   ]
  },
  {
   "cell_type": "markdown",
   "metadata": {},
   "source": [
    "Realice un perfilamiento de datos para 4 columnas de fact_item que hagan referencia a una métrica. "
   ]
  },
  {
   "cell_type": "markdown",
   "metadata": {},
   "source": [
    "### 2. Ejercicio SQL:"
   ]
  },
  {
   "cell_type": "markdown",
   "metadata": {},
   "source": [
    "a.Ventas (fact_item.paid_price_total_eur) por canal de mercadeo (dim_custome.channel)\n"
   ]
  },
  {
   "cell_type": "code",
   "execution_count": 16,
   "metadata": {},
   "outputs": [
    {
     "name": "stdout",
     "output_type": "stream",
     "text": [
      "+------------------+--------------------+\n",
      "|              suma|             channel|\n",
      "+------------------+--------------------+\n",
      "| 3703966.639999915|                 SEO|\n",
      "| 978618.4399999831|       SEM Non Brand|\n",
      "|1916225.2000000416|                null|\n",
      "| 299048.4000000016|             Display|\n",
      "| 292294.3899999953|               Email|\n",
      "| 4100295.429999952|              Direct|\n",
      "|1825386.8799999857|            Referral|\n",
      "| 93198.88999999981|         Retargeting|\n",
      "|2265328.2500000363|   Social Media Paid|\n",
      "|2096564.8900000483|           SEM Brand|\n",
      "| 83203.26000000064|Social Media Reta...|\n",
      "|427908.69000000384| Social Media Unpaid|\n",
      "|232315.44999999757|        Other Unpaid|\n",
      "+------------------+--------------------+\n",
      "\n"
     ]
    }
   ],
   "source": [
    "df.createOrReplaceTempView(\"fact_item\")\n",
    "df_clientes.createOrReplaceTempView(\"dim_customer\")\n",
    "users = sqlContext.sql(\"SELECT sum(paid_price_total_eur) suma, channel \\\n",
    "                       FROM fact_item join dim_customer on fk_dim_customer=id_dim_customer  \\\n",
    "                       GROUP BY channel limit 15\")\n",
    "users.show()"
   ]
  },
  {
   "cell_type": "markdown",
   "metadata": {},
   "source": [
    "b.Número de clientes por método de pago (dim_order.payment_method)"
   ]
  },
  {
   "cell_type": "code",
   "execution_count": 24,
   "metadata": {},
   "outputs": [
    {
     "name": "stdout",
     "output_type": "stream",
     "text": [
      "+-------------------------------+--------------------+\n",
      "|count(DISTINCT fk_dim_customer)|      payment_method|\n",
      "+-------------------------------+--------------------+\n",
      "|                            169|           NoPayment|\n",
      "|                            559|                 COD|\n",
      "|                           1727|    Adyen_CreditCard|\n",
      "|                            853|   Adyen_DirectDebit|\n",
      "|                              7|Adyen_PaypalRecur...|\n",
      "|                           2407|        Adyen_Paypal|\n",
      "+-------------------------------+--------------------+\n",
      "\n"
     ]
    }
   ],
   "source": [
    "d_order = sqlContext.read.format(\"csv\").option(\"delimiter\", \"\\t\").option(\"header\", \"true\").load(\"cubo_ventas/dim_order.txt\")\n",
    "d_order.createOrReplaceTempView(\"dim_order\")\n",
    "users = sqlContext.sql(\"SELECT count(distinct fk_dim_customer) cantidad, payment_method metodo \\\n",
    "                       FROM fact_item join dim_order on fk_dim_order=id_dim_order \\\n",
    "                       GROUP BY payment_method \")\n",
    "users.show()"
   ]
  },
  {
   "cell_type": "markdown",
   "metadata": {},
   "source": [
    "c.Ranking de productores (dim_catalog.producer) por ventas (fact_item.paid_price_net_eur)"
   ]
  },
  {
   "cell_type": "code",
   "execution_count": 31,
   "metadata": {},
   "outputs": [
    {
     "name": "stdout",
     "output_type": "stream",
     "text": [
      "+------------------+--------------------+\n",
      "|             total|            producer|\n",
      "+------------------+--------------------+\n",
      "|137238.74000000022|                null|\n",
      "|  33570.7799999998|Premium Frischeha...|\n",
      "| 21160.70000000003|            Bonativo|\n",
      "|19717.780000000203|   Bio Frischehandel|\n",
      "|14257.149999999983|Fleischerei Erchi...|\n",
      "|13991.819999999945|Landfleischerei R...|\n",
      "|12720.740000000049|     Blomeyer's Käse|\n",
      "| 7874.530000000034|     Ökohof Kuhhorst|\n",
      "| 7648.189999999935|         BioBackHaus|\n",
      "|7338.1100000000315|  Ökohof Lemke&Kluge|\n",
      "|  6049.91000000008|    Ökodorf Brodowin|\n",
      "| 5949.770000000017|   Die Müritzfischer|\n",
      "| 5345.660000000105|         Hemme Milch|\n",
      "| 4811.189999999996|Gemüsebaubetrieb ...|\n",
      "| 4508.089999999997|  Fleischerei Bünger|\n",
      "| 4130.770000000015|       Bauer Nietsch|\n",
      "| 4062.100000000058|   Gläserne Molkerei|\n",
      "|3758.6999999999994|Bauernkäserei Wol...|\n",
      "|3620.9300000000135|Ökohof Teltower R...|\n",
      "|3007.5299999999993|Berliner Lachsman...|\n",
      "+------------------+--------------------+\n",
      "only showing top 20 rows\n",
      "\n"
     ]
    }
   ],
   "source": [
    "d_catalog = sqlContext.read.format(\"csv\").option(\"delimiter\", \"\\t\").option(\"header\", \"true\").load(\"cubo_ventas/dim_catalog.txt\")\n",
    "d_catalog.createOrReplaceTempView(\"dim_catalog\")\n",
    "users = sqlContext.sql(\"SELECT SUM(paid_price_net_eur) total, producer \\\n",
    "                       FROM fact_item join dim_catalog on fk_dim_catalog=id_catalog \\\n",
    "                       GROUP BY producer \\\n",
    "                       ORDER BY SUM(paid_price_net_eur) DESC\")\n",
    "users.show()\n"
   ]
  },
  {
   "cell_type": "markdown",
   "metadata": {},
   "source": [
    "d. Ranking de clientes por ventas (fact_item.paid_price_total_eur"
   ]
  },
  {
   "cell_type": "code",
   "execution_count": 34,
   "metadata": {},
   "outputs": [
    {
     "name": "stdout",
     "output_type": "stream",
     "text": [
      "+------------------+---------+\n",
      "|             total|idcliente|\n",
      "+------------------+---------+\n",
      "| 4053.400000000003|     4477|\n",
      "|3820.5499999999915|     1265|\n",
      "| 3699.800000000018|     5416|\n",
      "| 3081.760000000001|     3654|\n",
      "| 3011.999999999993|     2750|\n",
      "|2855.6599999999867|     5144|\n",
      "|2698.2199999999916|     3806|\n",
      "|2362.8800000000065|      535|\n",
      "|2090.4400000000105|      586|\n",
      "|2034.4099999999987|     5064|\n",
      "|  1914.04999999998|     3407|\n",
      "|1889.9899999999936|     2751|\n",
      "|1827.1699999999946|     1175|\n",
      "|1813.3299999999913|     3918|\n",
      "|1662.9399999999964|     1964|\n",
      "|1631.5300000000007|     3815|\n",
      "|1574.3899999999946|     5776|\n",
      "|1563.4600000000055|     2196|\n",
      "|1523.5600000000004|     3445|\n",
      "|1498.3500000000042|      946|\n",
      "+------------------+---------+\n",
      "only showing top 20 rows\n",
      "\n"
     ]
    }
   ],
   "source": [
    "users = sqlContext.sql(\"SELECT SUM(paid_price_net_eur) total, fk_dim_customer idcliente \\\n",
    "                       FROM fact_item  \\\n",
    "                       GROUP BY fk_dim_customer \\\n",
    "                       ORDER BY SUM(paid_price_net_eur) DESC\")\n",
    "users.show()"
   ]
  },
  {
   "cell_type": "markdown",
   "metadata": {},
   "source": [
    "e. Número de órdenes con más de 3 items y con valor pagado por item mayor a 30 euros (fact_item.paid_price_total_eur)"
   ]
  },
  {
   "cell_type": "code",
   "execution_count": 66,
   "metadata": {},
   "outputs": [
    {
     "name": "stdout",
     "output_type": "stream",
     "text": [
      "+-----+------------+\n",
      "|total|FK_DIM_ORDER|\n",
      "+-----+------------+\n",
      "|    2|         718|\n",
      "|    3|        5965|\n",
      "|    2|        5863|\n",
      "|    3|        6458|\n",
      "|    2|        2247|\n",
      "|    2|        2253|\n",
      "|    2|        6919|\n",
      "|    2|        5967|\n",
      "|    2|        2251|\n",
      "|    2|        2250|\n",
      "|    4|        6996|\n",
      "|    2|        2268|\n",
      "|    2|        5959|\n",
      "|    3|        2267|\n",
      "|    2|        5861|\n",
      "+-----+------------+\n",
      "only showing top 15 rows\n",
      "\n"
     ]
    },
    {
     "data": {
      "text/plain": [
       "41"
      ]
     },
     "execution_count": 66,
     "metadata": {},
     "output_type": "execute_result"
    }
   ],
   "source": [
    "users = sqlContext.sql(\"SELECT count(*) total,FK_DIM_ORDER \\\n",
    "                       FROM fact_item \\\n",
    "                       WHERE paid_price_net_eur>30 \\\n",
    "                       GROUP BY FK_DIM_ORDER \\\n",
    "                       HAVING total> 1\")\n",
    "users.show(15)\n",
    "users.count()"
   ]
  },
  {
   "cell_type": "markdown",
   "metadata": {},
   "source": [
    "### Ejercicios PySpark"
   ]
  },
  {
   "cell_type": "markdown",
   "metadata": {},
   "source": [
    "Elija dos de las preguntas del punto anterior y respóndalas utilizando las funciones de PySpark\n",
    "http://spark.apache.org/docs/2.1.0/api/python/pyspark.sql.html\n",
    "https://www.analyticsvidhya.com/blog/2016/10/spark-dataframe-and-operations/\n"
   ]
  }
 ],
 "metadata": {
  "kernelspec": {
   "display_name": "Python 3",
   "language": "python",
   "name": "python3"
  },
  "language_info": {
   "codemirror_mode": {
    "name": "ipython",
    "version": 3
   },
   "file_extension": ".py",
   "mimetype": "text/x-python",
   "name": "python",
   "nbconvert_exporter": "python",
   "pygments_lexer": "ipython3",
   "version": "3.6.5"
  }
 },
 "nbformat": 4,
 "nbformat_minor": 2
}
